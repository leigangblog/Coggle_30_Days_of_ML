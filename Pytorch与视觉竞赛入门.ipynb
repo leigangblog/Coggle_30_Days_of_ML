{
 "cells": [
  {
   "cell_type": "markdown",
   "id": "6917c2b8",
   "metadata": {},
   "source": [
    "#  任务1：PyTorch张量计算与Numpy的转换"
   ]
  },
  {
   "cell_type": "markdown",
   "id": "9b5b4c20",
   "metadata": {},
   "source": [
    "\n",
    "\n",
    "任务要点：Pytorch基础使用、张量计算\n",
    "\n",
    "步骤1：配置本地Notebook环境，或使用天池DSW：https://dsw-dev.data.aliyun.com/#/\n",
    "\n",
    "配置本地环境后，使用pip install jupyter命令安装jupyter notebook\n",
    "\n",
    "使用jupyter notebook命令打开\n",
    "\n",
    "![image.png](imgs/jupyter.png)"
   ]
  },
  {
   "cell_type": "markdown",
   "id": "d082eb97",
   "metadata": {},
   "source": [
    "步骤2：学习Pytorch的基础语法，并成功执行以下代码基础pytorch教程：https://zhuanlan.zhihu.com/p/25572330\n",
    "\n",
    "官方教程：https://pytorch.org/tutorials/beginner/basics/intro.html"
   ]
  },
  {
   "cell_type": "code",
   "execution_count": 6,
   "id": "c1cbd10b",
   "metadata": {},
   "outputs": [
    {
     "name": "stdout",
     "output_type": "stream",
     "text": [
      "cuda:0\n"
     ]
    }
   ],
   "source": [
    "import numpy as np\n",
    "import torch\n",
    "from matplotlib import pyplot as plt\n",
    "# % matplotlib online\n",
    "def verify():\n",
    "    device = torch.device(\"cuda:0\" if torch.cuda.is_available() else \"cpu\")\n",
    "    # Assuming that we are on a CUDA machine, this should print a CUDA device:\n",
    "    print(device)\n",
    "verify()"
   ]
  },
  {
   "cell_type": "code",
   "execution_count": 7,
   "id": "de4a12da",
   "metadata": {},
   "outputs": [
    {
     "name": "stdout",
     "output_type": "stream",
     "text": [
      "[[1. 1. 1.]\n",
      " [1. 1. 1.]\n",
      " [1. 1. 1.]]\n",
      "tensor([[1., 1., 1.],\n",
      "        [1., 1., 1.],\n",
      "        [1., 1., 1.]], dtype=torch.float64)\n"
     ]
    }
   ],
   "source": [
    "def task1():\n",
    "    c = np.ones((3, 3))\n",
    "    d = torch.from_numpy(c)\n",
    "    print(c)\n",
    "    print(d)\n",
    "task1()"
   ]
  },
  {
   "cell_type": "markdown",
   "id": "b7975657",
   "metadata": {},
   "source": [
    "# 任务2：梯度计算和梯度下降过程"
   ]
  },
  {
   "cell_type": "markdown",
   "id": "5e1929fa",
   "metadata": {},
   "source": [
    "\n",
    "任务要点：Pytorch梯度计算、随机梯度下降\n",
    "\n",
    "步骤1：学习自动求梯度原理，https://pytorch.org/tutorials/beginner/basics/autogradqs_tutorial.html\n",
    "\n",
    "步骤2：学习随机梯度下降原理，https://www.cnblogs.com/BYRans/p/4700202.html\n",
    "\n",
    "步骤3：使用numpy创建一个y=10*x+b+noise(0,1)的数据，其中x是0到100的范围，以0.01进行等差数列，使用pytroch定义w和b，并使用随机梯度下降，完成回归拟合。"
   ]
  },
  {
   "cell_type": "code",
   "execution_count": 8,
   "id": "3813e3df",
   "metadata": {},
   "outputs": [
    {
     "name": "stdout",
     "output_type": "stream",
     "text": [
      "w, b, loss 0.31745991110801697 1.0009737014770508 316189.21875\n",
      "w, b, loss 3.0675601959228516 1.0422089099884033 161945.15625\n",
      "w, b, loss 5.035712718963623 1.0717145204544067 82944.828125\n",
      "w, b, loss 6.444254398345947 1.0928258895874023 42482.53515625\n",
      "w, b, loss 7.452297210693359 1.1079294681549072 21758.705078125\n",
      "w, b, loss 8.173721313476562 1.1187336444854736 11144.3828125\n",
      "w, b, loss 8.690019607543945 1.126461148262024 5707.96728515625\n",
      "w, b, loss 9.059518814086914 1.1319862604141235 2923.543701171875\n",
      "w, b, loss 9.323954582214355 1.1359353065490723 1497.434814453125\n",
      "w, b, loss 9.513200759887695 1.138756513595581 767.0186157226562\n",
      "w, b, loss 9.648642539978027 1.140770435333252 392.90447998046875\n",
      "w, b, loss 9.745570182800293 1.1422067880630493 201.29669189453125\n",
      "w, b, loss 9.81493854522705 1.1432303190231323 103.16044616699219\n",
      "w, b, loss 9.86458683013916 1.1439577341079712 52.893653869628906\n",
      "w, b, loss 9.900115013122559 1.1444731950759888 27.149906158447266\n",
      "w, b, loss 9.925543785095215 1.1448370218276978 13.964370727539062\n",
      "Result: y = 9.943434715270996 x + 1.1450883150100708\n"
     ]
    },
    {
     "data": {
      "image/png": "[encoded data removed]",
      "text/plain": [
       "<Figure size 1440x576 with 1 Axes>"
      ]
     },
     "metadata": {
      "needs_background": "light"
     },
     "output_type": "display_data"
    }
   ],
   "source": [
    "def task2():\n",
    "    x = torch.linspace(0, 100, 10001)\n",
    "    noise = torch.randn(1)\n",
    "    #  y = 10x+1\n",
    "    y_true = 10 * x + 1 + noise\n",
    "    # 通过模型计算y_predict\n",
    "    w = torch.rand([1, 1], requires_grad=True)\n",
    "    b = torch.tensor(1, requires_grad=True, dtype=torch.float32)\n",
    "    # 设置学习率\n",
    "    learing_rate = 1e-6\n",
    "    # 通过循环，反向传播，更新参数\n",
    "    for i in range(800):\n",
    "        # 计算loss\n",
    "        y_pred = w * x + b\n",
    "        loss = (y_pred - y_true).pow(2).mean()\n",
    "        if w.grad is not None:\n",
    "            w.grad.data.zero_()\n",
    "        if b.grad is not None:\n",
    "            b.grad.data.zero_()\n",
    "        loss.backward()  # 反向传播\n",
    "        with torch.no_grad():\n",
    "            w.data = w.data - learing_rate * w.grad.data\n",
    "            b.data = b.data - learing_rate * b.grad.data\n",
    "            w.grad=None\n",
    "            b.grad=None\n",
    "        if i % 50 == 0:\n",
    "            print(\"w, b, loss\", w.item(), b.item(), loss.item())\n",
    "\n",
    "    print(f'Result: y = {w.item()} x + {b.item()}')\n",
    "    plt.figure(figsize=(20, 8))\n",
    "    plt.scatter(x, y_true, c='r')\n",
    "    y_pred = w * x + b\n",
    "    plt.plot(x.numpy().reshape(-1), y_pred.detach().numpy().reshape(-1))\n",
    "    plt.show()\n",
    "task2()"
   ]
  },
  {
   "cell_type": "markdown",
   "id": "94a48c39",
   "metadata": {},
   "source": [
    "# 任务3：PyTorch全连接层原理和使用"
   ]
  },
  {
   "cell_type": "markdown",
   "id": "98c7bb6c",
   "metadata": {},
   "source": [
    "\n",
    "任务要点：全连接网络\n",
    "\n",
    "步骤1：学习全连接网络原理，https://blog.csdn.net/xiaodong_11/article/details/82015456\n",
    "\n",
    "步骤2：在pytorch中使用矩阵乘法实现全连接层\n",
    "\n",
    "步骤3：在pytorch中使用nn.Linear层"
   ]
  },
  {
   "cell_type": "code",
   "execution_count": 9,
   "id": "1deabacf",
   "metadata": {},
   "outputs": [
    {
     "name": "stdout",
     "output_type": "stream",
     "text": [
      "torch.Size([128, 30])\n"
     ]
    }
   ],
   "source": [
    "def task3():\n",
    "    # 使用numpy定义全连接层\n",
    "    class Liner():\n",
    "        def __init__(self, in_features, out_features, bias=0):\n",
    "            self.in_features = in_features\n",
    "            self.out_features = out_features\n",
    "            self.weight = np.zeros((in_features, out_features))\n",
    "            self.bias = np.zeros((in_features, out_features))\n",
    "\n",
    "        def forward(self, x):\n",
    "            return np.dot(x, self.weight.T) + self.bias\n",
    "\n",
    "    # 使用pytorch的全连接层\n",
    "    m = torch.nn.Linear(20, 30)\n",
    "    input = torch.randn(128, 20)\n",
    "    output = m(input)\n",
    "    print(output.size())\n",
    "task3()"
   ]
  },
  {
   "cell_type": "markdown",
   "id": "7fe0b212",
   "metadata": {},
   "source": [
    "# 任务4：PyTorch激活函数原理和使用"
   ]
  },
  {
   "cell_type": "markdown",
   "id": "6bcb6290",
   "metadata": {},
   "source": [
    "\n",
    "任务要点：激活函数\n",
    "\n",
    "步骤1：学习激活函数的原理，https://zhuanlan.zhihu.com/p/88429934\n",
    "\n",
    "步骤2：在pytorch中手动实现上述激活函数"
   ]
  },
  {
   "cell_type": "code",
   "execution_count": 10,
   "id": "a2aca05c",
   "metadata": {},
   "outputs": [
    {
     "name": "stdout",
     "output_type": "stream",
     "text": [
      "tensor([-0.6536, -0.4276])\n"
     ]
    }
   ],
   "source": [
    "def task4():\n",
    "    # https://pytorch.org/docs/stable/nn.html#non-linear-activations-weighted-sum-nonlinearity\n",
    "    # https://pytorch.org/docs/stable/generated/torch.nn.ELU.html#torch.nn.ELU\n",
    "    m = torch.nn.ELU()\n",
    "    input = torch.randn(2)\n",
    "    output = m(input)\n",
    "    print(output)\n",
    "task4()"
   ]
  }
 ],
 "metadata": {
  "kernelspec": {
   "display_name": "Python 3 (ipykernel)",
   "language": "python",
   "name": "python3"
  },
  "language_info": {
   "codemirror_mode": {
    "name": "ipython",
    "version": 3
   },
   "file_extension": ".py",
   "mimetype": "text/x-python",
   "name": "python",
   "nbconvert_exporter": "python",
   "pygments_lexer": "ipython3",
   "version": "3.8.12"
  }
 },
 "nbformat": 4,
 "nbformat_minor": 5
}
